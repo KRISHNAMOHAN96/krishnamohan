{
 "cells": [
  {
   "cell_type": "code",
   "execution_count": 2,
   "metadata": {},
   "outputs": [
    {
     "name": "stdout",
     "output_type": "stream",
     "text": [
      "py\n",
      "on\n",
      "hon\n",
      "tho\n",
      "ytho\n"
     ]
    }
   ],
   "source": [
    "s1='python'\n",
    "print(s1[0:2])\n",
    "print(s1[-2:])\n",
    "print(s1[3:])\n",
    "print(s1[2:5])\n",
    "print(s1[1:-1])\n",
    "\n"
   ]
  },
  {
   "cell_type": "code",
   "execution_count": 3,
   "metadata": {},
   "outputs": [
    {
     "data": {
      "text/plain": [
       "'nohtyp'"
      ]
     },
     "execution_count": 3,
     "metadata": {},
     "output_type": "execute_result"
    }
   ],
   "source": [
    "s1[-1::-1]"
   ]
  },
  {
   "cell_type": "code",
   "execution_count": 4,
   "metadata": {},
   "outputs": [
    {
     "data": {
      "text/plain": [
       "'nhy'"
      ]
     },
     "execution_count": 4,
     "metadata": {},
     "output_type": "execute_result"
    }
   ],
   "source": [
    "s1[::-2]"
   ]
  },
  {
   "cell_type": "code",
   "execution_count": 6,
   "metadata": {},
   "outputs": [
    {
     "data": {
      "text/plain": [
       "'ph'"
      ]
     },
     "execution_count": 6,
     "metadata": {},
     "output_type": "execute_result"
    }
   ],
   "source": [
    "s1[::3]"
   ]
  },
  {
   "cell_type": "markdown",
   "metadata": {},
   "source": [
    "## functions with string operations"
   ]
  },
  {
   "cell_type": "code",
   "execution_count": 9,
   "metadata": {},
   "outputs": [
    {
     "data": {
      "text/plain": [
       "'nothyp'"
      ]
     },
     "execution_count": 9,
     "metadata": {},
     "output_type": "execute_result"
    }
   ],
   "source": [
    "# reverse the string\n",
    "def reversestr(s):\n",
    " return s[-1::-1]\n",
    "reversestr('pyhton')"
   ]
  },
  {
   "cell_type": "code",
   "execution_count": 11,
   "metadata": {},
   "outputs": [
    {
     "name": "stdout",
     "output_type": "stream",
     "text": [
      "False\n",
      "True\n"
     ]
    }
   ],
   "source": [
    "def ispalindrome(s):\n",
    "    if s==s[-1::-1]:\n",
    "        return True\n",
    "    return False\n",
    "print(ispalindrome('python'))\n",
    "print(ispalindrome('ganag'))\n",
    "    "
   ]
  },
  {
   "cell_type": "code",
   "execution_count": 47,
   "metadata": {},
   "outputs": [
    {
     "name": "stdout",
     "output_type": "stream",
     "text": [
      "P "
     ]
    }
   ],
   "source": [
    "# function to print the upper case charaters\n",
    "# example: PyThon --P T\n",
    "\n",
    "\n",
    "# ASCII\n",
    "# A - Z  : 65 - 90\n",
    "# a - z  : 97 - 122\n",
    "# 0 - 9 :  48 - 57\n",
    "# space :  32\n",
    " \n",
    "def printUpper(s):\n",
    "    for i in range(len(s)):\n",
    "        if ord(s[i] )>= 65 and ord(s[i] )<= 90:\n",
    "            print(s[i],end=' ')\n",
    "        return\n",
    "printUpper('PyThon')\n",
    "\n"
   ]
  },
  {
   "cell_type": "code",
   "execution_count": 38,
   "metadata": {},
   "outputs": [
    {
     "data": {
      "text/plain": [
       "97"
      ]
     },
     "execution_count": 38,
     "metadata": {},
     "output_type": "execute_result"
    }
   ],
   "source": [
    "ord('a') # ord() function glass the output as number which is to ASCII number"
   ]
  },
  {
   "cell_type": "code",
   "execution_count": null,
   "metadata": {},
   "outputs": [],
   "source": [
    "# function to return the output as \"sameCount\" or \"programming\"\n",
    "# sameCount --Lower and  Upper chars have same count\n",
    "# programming -- Count of lower and upper case is not same\n",
    "\n",
    "# example #1 : PyThOn --3 P T O\n",
    "#                      --3 y h n\n",
    "# Output : sameCount\n",
    "\n",
    "#example #2 : PyThoN --2 P N\n",
    "#                    --4 y t h o\n",
    "# Output : Programming\n",
    "\n",
    "def findCharount(s):\n",
    "    cntUpper = 0\n",
    "    cnt Lower = 0\n",
    "    for i in range(len(s)):\n",
    "        if ord(s[i])>= 65 and ord(s[i]) <= 90:\n",
    "            cntUpper += 1 #cntUpper = cntUpper +1\n",
    "        elif ord(s[i])>=97 anf ord(s[i])<= 122:\n",
    "            cntLower += 1 # cntLower = cntLower +1\n",
    "    if cntLower ==       "
   ]
  },
  {
   "cell_type": "code",
   "execution_count": 49,
   "metadata": {},
   "outputs": [
    {
     "name": "stdout",
     "output_type": "stream",
     "text": [
      "1 8 8 9 "
     ]
    }
   ],
   "source": [
    "# Function to extract the digits from the string\n",
    "# Example #1:\n",
    "# input : appli18cation89\n",
    "# output : 1 8 8 9\n",
    "\n",
    "def extractDigits(s):\n",
    "    for i in  range(len(s)):\n",
    "        if ord(s[i]) >= 48 and ord(s[i]) <= 57:\n",
    "            print((s[i]),end=' ' )\n",
    "    return\n",
    "extractDigits('appli18cation89')"
   ]
  },
  {
   "cell_type": "code",
   "execution_count": 65,
   "metadata": {},
   "outputs": [
    {
     "data": {
      "text/plain": [
       "26"
      ]
     },
     "execution_count": 65,
     "metadata": {},
     "output_type": "execute_result"
    }
   ],
   "source": [
    "# function to add the digits of the string\n",
    "# example #1:\n",
    "#Input : appli18cation89\n",
    "# Output : 26(1+8+8+9)\n",
    "\n",
    "def k(s):\n",
    "    sum = 0\n",
    "    for i in  range(len(s)):\n",
    "        if ord(s[i]) >= 48 and ord(s[i]) <= 57:\n",
    "            sum = sum +(ord(s[i])-48)\n",
    "    return sum\n",
    "sumofDigits('appli18cation89')"
   ]
  },
  {
   "cell_type": "code",
   "execution_count": null,
   "metadata": {},
   "outputs": [],
   "source": [
    "# function to 2nd word in Upper case\n",
    "# example #1:\n",
    "#input: Python Made Easy\n",
    "#output : MADE\n",
    "\n",
    "# Example #2:\n",
    "# input : Learn Python Strings\n",
    "# Output : PYTHON\n",
    "\n",
    "def worduppercase(s):\n",
    "    cntspace = 0\n",
    "    for i in range(len(s)):\n",
    "        if ord(s[i]) == 32:\n",
    "            cntspace += 1\n",
    "        if cntspace == 1:\n",
    "            if ord(s[i])>= 65 and ord(s[i])<= 90:\n",
    "                print(s[i]),end =' ')\n",
    "            elif ord(s[i]) >= 97 and ord(s[i])    \n",
    "\n",
    "\n"
   ]
  },
  {
   "cell_type": "markdown",
   "metadata": {},
   "source": [
    "# list \n",
    "- one of the Data Structure in Python\n",
    "- Data Structure means to store sort and Search Options\n",
    "- Its one Common Data structure in python, the items of lists separerted by common and enclosed in square brackets[]\n",
    "  - example\n",
    "    - list1 =[1,2,3,4,5]\n",
    "    - list2 = [\"gitam\",1,2,1.89,\"vizg\"]"
   ]
  },
  {
   "cell_type": "code",
   "execution_count": 66,
   "metadata": {},
   "outputs": [
    {
     "name": "stdout",
     "output_type": "stream",
     "text": [
      "[1, 2, 3, 4]\n",
      "1\n",
      "2\n",
      "4\n",
      "3\n",
      "[3, 4]\n"
     ]
    }
   ],
   "source": [
    "li = [1,2,3,4]\n",
    "print(li) # will print the all the list items\n",
    "print(li[0]) # Access the first iteam of the list\n",
    "print(li[1]) # Access the second iteam of the list\n",
    "print(li[-1])# Access the last iteam of the list\n",
    "print(li[-2])\n",
    "print(li[2:])\n"
   ]
  },
  {
   "cell_type": "code",
   "execution_count": 70,
   "metadata": {},
   "outputs": [
    {
     "name": "stdout",
     "output_type": "stream",
     "text": [
      "['gitam', 1582, 2018, 2019, 'vizag']\n",
      "['gitam', 1234, 2018, 2019, 'vizag']\n"
     ]
    }
   ],
   "source": [
    "li = [\"gitam\",1582,2018,2019,'vizag']\n",
    "print(li)\n",
    "# update the list item with value using index\n",
    "li[1]=1234\n",
    "print(li)"
   ]
  },
  {
   "cell_type": "code",
   "execution_count": 72,
   "metadata": {},
   "outputs": [
    {
     "name": "stdout",
     "output_type": "stream",
     "text": [
      "['gitam', 1234, 2018, 'vizag']\n"
     ]
    }
   ],
   "source": [
    "# delete the list iteam from the list\n",
    "del li[3]\n",
    "print(li)"
   ]
  },
  {
   "cell_type": "code",
   "execution_count": null,
   "metadata": {},
   "outputs": [],
   "source": [
    "# basic list operations\n",
    "li=[1,2,3,4,5]\n",
    "#len of the list \n",
    "print(len(li))\n",
    "# list repitation\n",
    "print(li*2)\n",
    "# to "
   ]
  },
  {
   "cell_type": "code",
   "execution_count": 75,
   "metadata": {},
   "outputs": [
    {
     "name": "stdout",
     "output_type": "stream",
     "text": [
      "9\n",
      "1\n",
      "17\n",
      "4.25\n"
     ]
    }
   ],
   "source": [
    "# BASIC LIST FUNCTIONS\n",
    "li= [1,2,9,5]\n",
    "print(max(li)) # max number of the list\n",
    "print(min(li)) # min number of the list\n",
    "print(sum(li)) # sum of all list items\n",
    "print(sum(li)//len(li)) #avg of list items"
   ]
  },
  {
   "cell_type": "code",
   "execution_count": 78,
   "metadata": {},
   "outputs": [
    {
     "name": "stdout",
     "output_type": "stream",
     "text": [
      "9 1 17\n"
     ]
    }
   ],
   "source": [
    "li= [1,2,9,5]\n",
    "print(max(li),min(li),sum(li))"
   ]
  },
  {
   "cell_type": "code",
   "execution_count": null,
   "metadata": {},
   "outputs": [],
   "source": []
  }
 ],
 "metadata": {
  "kernelspec": {
   "display_name": "Python 3",
   "language": "python",
   "name": "python3"
  },
  "language_info": {
   "codemirror_mode": {
    "name": "ipython",
    "version": 3
   },
   "file_extension": ".py",
   "mimetype": "text/x-python",
   "name": "python",
   "nbconvert_exporter": "python",
   "pygments_lexer": "ipython3",
   "version": "3.7.3"
  }
 },
 "nbformat": 4,
 "nbformat_minor": 2
}
